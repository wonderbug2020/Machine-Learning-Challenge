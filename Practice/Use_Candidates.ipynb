{
 "cells": [
  {
   "cell_type": "code",
   "execution_count": 13,
   "metadata": {},
   "outputs": [],
   "source": [
    "#Import all the libraries\n",
    "import pandas as pd\n",
    "from sklearn.model_selection import train_test_split\n",
    "from sklearn.preprocessing import MinMaxScaler\n",
    "from sklearn.linear_model import LogisticRegression\n",
    "from sklearn.neighbors import KNeighborsClassifier\n",
    "from sklearn.metrics import confusion_matrix, accuracy_score"
   ]
  },
  {
   "cell_type": "code",
   "execution_count": 3,
   "metadata": {},
   "outputs": [],
   "source": [
    "#Import the data\n",
    "df = pd.read_csv('exoplanet_data.csv')"
   ]
  },
  {
   "cell_type": "code",
   "execution_count": 11,
   "metadata": {},
   "outputs": [],
   "source": [
    "#This function takes in a data frame withthe desired features, preprocesses the data, makes, tests, and gives the score for a\n",
    "#Linear regression model. Really just did this to save a lot of copy pasta\n",
    "def log_reg_model(df):\n",
    "    #feature_select = df\n",
    "    dataset = df\n",
    "    \n",
    "    #Remove the Candidate  rows\n",
    "    #dataset = feature_select[feature_select['koi_disposition'] != 'CANDIDATE']\n",
    "    \n",
    "    #Create X and y\n",
    "    X = dataset.iloc[:,:-1].values\n",
    "    y = dataset.iloc[:,-1].values\n",
    "    \n",
    "    #Create Train-test split    \n",
    "    X_train, X_test, y_train, y_test = train_test_split(X, y, test_size=0.25, random_state=101)\n",
    "    \n",
    "    #Standardize the data    \n",
    "    mms = MinMaxScaler()\n",
    "    X_train_mms = mms.fit_transform(X_train)\n",
    "    X_test_mms = mms.transform(X_test)\n",
    "    \n",
    "    \n",
    "    knn = KNeighborsClassifier(n_neighbors=5, metric = 'minkowski', p = 2)\n",
    "    knn.fit(X_train_mms,y_train)\n",
    "    knn_pred = knn.predict(X_test_mms)\n",
    "    \n",
    "    #print the results\n",
    "    #print(\"###########\")\n",
    "    cm = confusion_matrix(y_test, knn_pred)\n",
    "    print(cm)\n",
    "    score = accuracy_score(y_test, knn_pred)\n",
    "    print(score)\n",
    "    print()"
   ]
  },
  {
   "cell_type": "code",
   "execution_count": 7,
   "metadata": {},
   "outputs": [],
   "source": [
    "#This is a first pass at feature selection. I essentially only eliminated columns that I knew for sure should not be included\n",
    "feature_select = df[['koi_fpflag_nt', 'koi_fpflag_ss', 'koi_fpflag_co',\n",
    "                     'koi_fpflag_ec', \n",
    "                     'koi_period', 'koi_period_err1', 'koi_period_err2',\n",
    "                     'koi_impact', 'koi_impact_err1', 'koi_impact_err2', \n",
    "                     'koi_duration', 'koi_duration_err1', 'koi_duration_err2', \n",
    "                     'koi_depth', 'koi_depth_err1', 'koi_depth_err2',\n",
    "                     'koi_prad', 'koi_prad_err1', 'koi_prad_err2',\n",
    "                     'koi_teq', 'koi_model_snr',\n",
    "                     'koi_steff', 'koi_steff_err1', 'koi_steff_err2',\n",
    "                     'koi_slogg', 'koi_slogg_err1', 'koi_slogg_err2',\n",
    "                     'koi_srad', 'koi_srad_err1', 'koi_srad_err2',\n",
    "                     'ra', 'dec', 'koi_kepmag',\n",
    "                     'koi_disposition']]"
   ]
  },
  {
   "cell_type": "code",
   "execution_count": 14,
   "metadata": {},
   "outputs": [
    {
     "name": "stdout",
     "output_type": "stream",
     "text": [
      "[[233 185  10]\n",
      " [111 316   8]\n",
      " [  2   0 883]]\n",
      "0.8192219679633868\n",
      "\n"
     ]
    }
   ],
   "source": [
    "log_reg_model(feature_select)"
   ]
  },
  {
   "cell_type": "code",
   "execution_count": null,
   "metadata": {},
   "outputs": [],
   "source": []
  }
 ],
 "metadata": {
  "kernelspec": {
   "display_name": "Python 3",
   "language": "python",
   "name": "python3"
  },
  "language_info": {
   "codemirror_mode": {
    "name": "ipython",
    "version": 3
   },
   "file_extension": ".py",
   "mimetype": "text/x-python",
   "name": "python",
   "nbconvert_exporter": "python",
   "pygments_lexer": "ipython3",
   "version": "3.8.3"
  }
 },
 "nbformat": 4,
 "nbformat_minor": 4
}
