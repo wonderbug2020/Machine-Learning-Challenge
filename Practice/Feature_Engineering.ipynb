{
 "cells": [
  {
   "cell_type": "code",
   "execution_count": null,
   "metadata": {},
   "outputs": [],
   "source": [
    "#Import all the libraries\n",
    "import pandas as pd\n",
    "from sklearn.model_selection import train_test_split\n",
    "from sklearn.preprocessing import MinMaxScaler\n",
    "from sklearn.ensemble import RandomForestClassifier\n",
    "from sklearn.neighbors import KNeighborsClassifier\n",
    "from sklearn.metrics import confusion_matrix, accuracy_score"
   ]
  },
  {
   "cell_type": "code",
   "execution_count": null,
   "metadata": {},
   "outputs": [],
   "source": [
    "#Import the data\n",
    "df = pd.read_csv('exoplanet_data.csv')"
   ]
  },
  {
   "cell_type": "code",
   "execution_count": null,
   "metadata": {},
   "outputs": [],
   "source": [
    "#This function takes in a data frame with the desired features, preprocesses the data, then call other functions \n",
    "def test_data(df):    \n",
    "    dataset = df\n",
    "    \n",
    "    #Create X and y\n",
    "    X = dataset.iloc[:,:-1].values\n",
    "    y = dataset.iloc[:,-1].values\n",
    "    \n",
    "    #Create Train-test split    \n",
    "    X_train, X_test, y_train, y_test = train_test_split(X, y, test_size=0.25, random_state=101)\n",
    "    \n",
    "    #Standardize the data    \n",
    "    mms = MinMaxScaler()\n",
    "    X_train_mms = mms.fit_transform(X_train)\n",
    "    X_test_mms = mms.transform(X_test)\n",
    "    \n",
    "    #Test using KNN model\n",
    "    knn_model(X_train_mms,X_test_mms,y_train,y_test)\n",
    "    \n",
    "    #Test using Random Forest model\n",
    "    rf_model(X_train_mms,X_test_mms,y_train,y_test)"
   ]
  },
  {
   "cell_type": "code",
   "execution_count": null,
   "metadata": {},
   "outputs": [],
   "source": [
    "#This function will take the training and test set data and analyse it using KNN model\n",
    "def knn_model(X_train,X_test,y_train,y_test):\n",
    "    knn = KNeighborsClassifier(n_neighbors=5, metric = 'minkowski', p = 2)\n",
    "    knn.fit(X_train,y_train)\n",
    "    knn_pred = knn.predict(X_test)\n",
    "    \n",
    "    cm = confusion_matrix(y_test, knn_pred)\n",
    "    score = accuracy_score(y_test, knn_pred)\n",
    "    print('Results for KNN model')\n",
    "    print(cm)\n",
    "    print(score)\n",
    "    print()"
   ]
  },
  {
   "cell_type": "code",
   "execution_count": null,
   "metadata": {},
   "outputs": [],
   "source": [
    "#This function will take the training and test set data and analyse it using KNN model\n",
    "def rf_model(X_train,X_test,y_train,y_test):\n",
    "    #knn = KNeighborsClassifier(n_neighbors=5, metric = 'minkowski', p = 2)\n",
    "    #knn.fit(X_train,y_train)\n",
    "    #knn_pred = knn.predict(X_test)\n",
    "    rfc = RandomForestClassifier(n_estimators=50, criterion = 'entropy', random_state = 0)\n",
    "    rfc.fit(X_train,y_train)\n",
    "    rf_pred = rfc.predict(X_test)\n",
    "\n",
    "    \n",
    "    cm = confusion_matrix(y_test, rf_pred)\n",
    "    score = accuracy_score(y_test, rf_pred)\n",
    "    print('Results for Random forest model')\n",
    "    print(cm)\n",
    "    print(score)\n",
    "    print()"
   ]
  },
  {
   "cell_type": "code",
   "execution_count": null,
   "metadata": {},
   "outputs": [],
   "source": [
    "df.head()"
   ]
  },
  {
   "cell_type": "code",
   "execution_count": null,
   "metadata": {},
   "outputs": [],
   "source": [
    "df['koi_period_err'] = (df['koi_period_err1']-df['koi_period_err2'])/df['koi_period']\n",
    "df['koi_impact_err'] = (df['koi_impact_err1']-df['koi_impact_err2'])/df['koi_impact']\n",
    "df['koi_duration_err'] = (df['koi_duration_err1']-df['koi_duration_err2'])/df['koi_duration']\n",
    "df['koi_depth_err'] = (df['koi_depth_err1']-df['koi_depth_err2'])/df['koi_depth']\n",
    "df['koi_prad_err'] = (df['koi_prad_err1']-df['koi_prad_err2'])/df['koi_prad']\n",
    "df['koi_steff_err'] = (df['koi_steff_err1']-df['koi_steff_err2'])/df['koi_steff']\n",
    "df['koi_slogg_err'] = (df['koi_slogg_err1']-df['koi_slogg_err2'])/df['koi_slogg']\n",
    "df['koi_srad_err'] = (df['koi_srad_err1']-df['koi_srad_err2'])/df['koi_srad']"
   ]
  },
  {
   "cell_type": "code",
   "execution_count": null,
   "metadata": {},
   "outputs": [],
   "source": [
    "df.head()"
   ]
  },
  {
   "cell_type": "code",
   "execution_count": null,
   "metadata": {},
   "outputs": [],
   "source": [
    "df.describe()"
   ]
  },
  {
   "cell_type": "code",
   "execution_count": null,
   "metadata": {},
   "outputs": [],
   "source": [
    "#This is a first pass at feature selection. I essentially only eliminated columns that I knew for sure should not be included\n",
    "feature_select_err = df[['koi_fpflag_nt', 'koi_fpflag_ss', 'koi_fpflag_co',\n",
    "                     'koi_fpflag_ec', \n",
    "                     'koi_period', 'koi_period_err', \n",
    "                     'koi_impact',   \n",
    "                     'koi_duration', 'koi_duration_err',  \n",
    "                     'koi_depth', 'koi_depth_err', \n",
    "                     'koi_prad', 'koi_prad_err', \n",
    "                     'koi_teq', 'koi_model_snr',\n",
    "                     'koi_steff', 'koi_steff_err', \n",
    "                     'koi_slogg', 'koi_slogg_err', \n",
    "                     'koi_srad', 'koi_srad_err', \n",
    "                     'ra', 'dec', 'koi_kepmag',\n",
    "                     'koi_disposition']]"
   ]
  },
  {
   "cell_type": "code",
   "execution_count": null,
   "metadata": {},
   "outputs": [],
   "source": [
    "test_data(feature_select_err)"
   ]
  },
  {
   "cell_type": "code",
   "execution_count": null,
   "metadata": {},
   "outputs": [],
   "source": [
    "#The best overall model so far is the features without any error features. \n",
    "#Adding in these new calcuated features has no meaningful effect on the accuracy\n",
    "#However it does add more features which can slow down testing"
   ]
  }
 ],
 "metadata": {
  "kernelspec": {
   "display_name": "Python 3",
   "language": "python",
   "name": "python3"
  },
  "language_info": {
   "codemirror_mode": {
    "name": "ipython",
    "version": 3
   },
   "file_extension": ".py",
   "mimetype": "text/x-python",
   "name": "python",
   "nbconvert_exporter": "python",
   "pygments_lexer": "ipython3",
   "version": "3.8.3"
  }
 },
 "nbformat": 4,
 "nbformat_minor": 4
}
