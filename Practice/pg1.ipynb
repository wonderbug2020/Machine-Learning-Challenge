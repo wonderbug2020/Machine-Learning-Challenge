{
 "cells": [
  {
   "cell_type": "code",
   "execution_count": null,
   "metadata": {},
   "outputs": [],
   "source": [
    "import pandas as pd"
   ]
  },
  {
   "cell_type": "code",
   "execution_count": null,
   "metadata": {},
   "outputs": [],
   "source": [
    "df = pd.read_csv('exoplanet_data.csv')\n",
    "df.head()"
   ]
  },
  {
   "cell_type": "code",
   "execution_count": null,
   "metadata": {},
   "outputs": [],
   "source": [
    "#Printing out a list of columns heads to look up their descriptions\n",
    "df.columns"
   ]
  },
  {
   "cell_type": "code",
   "execution_count": null,
   "metadata": {},
   "outputs": [],
   "source": [
    "#This is a first pass at feature selection. I essentially only eliminated columns that I knew for sure should not be included\n",
    "feature_select = df[['koi_fpflag_nt', 'koi_fpflag_ss', 'koi_fpflag_co',\n",
    "                     'koi_fpflag_ec', \n",
    "                     'koi_period', 'koi_period_err1', 'koi_period_err2',\n",
    "                     'koi_impact', 'koi_impact_err1', 'koi_impact_err2', \n",
    "                     'koi_duration', 'koi_duration_err1', 'koi_duration_err2', \n",
    "                     'koi_depth', 'koi_depth_err1', 'koi_depth_err2',\n",
    "                     'koi_prad', 'koi_prad_err1', 'koi_prad_err2',\n",
    "                     'koi_teq', 'koi_model_snr',\n",
    "                     'koi_steff', 'koi_steff_err1', 'koi_steff_err2',\n",
    "                     'koi_slogg', 'koi_slogg_err1', 'koi_slogg_err2',\n",
    "                     'koi_srad', 'koi_srad_err1', 'koi_srad_err2',\n",
    "                     'ra', 'dec', 'koi_kepmag',\n",
    "                     'koi_disposition']]"
   ]
  },
  {
   "cell_type": "code",
   "execution_count": null,
   "metadata": {},
   "outputs": [],
   "source": [
    "feature_select.head()"
   ]
  },
  {
   "cell_type": "code",
   "execution_count": null,
   "metadata": {},
   "outputs": [],
   "source": [
    "feature_select['koi_disposition'].value_counts()"
   ]
  },
  {
   "cell_type": "code",
   "execution_count": null,
   "metadata": {},
   "outputs": [],
   "source": [
    "#This data has KOI that have been confirmed, false positives, and candidates\n",
    "#I'm going to split them up so that the candidates are their own dataset, gameset.\n",
    "#1. I cannot use use it in the training as they are unknowns, as opposed to a confirmed planet or not a planet\n",
    "#2. However, I can use this to set up a a real world application of the data.\n",
    "#Once the model is selected, it can be used to predict if the \"new\" data should produce a planet or false positive\n",
    "dataset = feature_select[feature_select['koi_disposition'] != 'CANDIDATE']\n",
    "gameset = feature_select[feature_select['koi_disposition'] == 'CANDIDATE']\n",
    "gameset['koi_disposition'].value_counts()"
   ]
  },
  {
   "cell_type": "code",
   "execution_count": null,
   "metadata": {},
   "outputs": [],
   "source": []
  },
  {
   "cell_type": "code",
   "execution_count": null,
   "metadata": {},
   "outputs": [],
   "source": [
    "#Split the columns into a features table, X, and a predictor table, y\n",
    "X = dataset.iloc[:,:-1].values\n",
    "y = dataset.iloc[:,-1].values"
   ]
  },
  {
   "cell_type": "code",
   "execution_count": null,
   "metadata": {},
   "outputs": [],
   "source": [
    "#Creating the train test split\n",
    "from sklearn.model_selection import train_test_split\n",
    "X_train, X_test, y_train, y_test = train_test_split(X, y, test_size=0.25, random_state=101)"
   ]
  },
  {
   "cell_type": "code",
   "execution_count": null,
   "metadata": {},
   "outputs": [],
   "source": [
    "print(X_train)"
   ]
  },
  {
   "cell_type": "code",
   "execution_count": null,
   "metadata": {},
   "outputs": [],
   "source": [
    "from sklearn.preprocessing import MinMaxScaler\n",
    "mms = MinMaxScaler()\n",
    "X_train_mms = mms.fit_transform(X_train)\n",
    "X_test_mms = mms.transform(X_test)"
   ]
  },
  {
   "cell_type": "code",
   "execution_count": null,
   "metadata": {},
   "outputs": [],
   "source": [
    "print(X_train_mms)"
   ]
  },
  {
   "cell_type": "code",
   "execution_count": null,
   "metadata": {},
   "outputs": [],
   "source": [
    "from sklearn.linear_model import LogisticRegression\n",
    "log_cla = LogisticRegression(random_state = 0)\n",
    "log_cla.fit(X_train_mms, y_train)\n",
    "log_pred = log_cla.predict(X_test_mms)"
   ]
  },
  {
   "cell_type": "code",
   "execution_count": null,
   "metadata": {},
   "outputs": [],
   "source": [
    "from sklearn.metrics import confusion_matrix, accuracy_score\n",
    "cm = confusion_matrix(y_test, log_pred)\n",
    "print(cm)\n",
    "accuracy_score(y_test, log_pred)\n"
   ]
  },
  {
   "cell_type": "code",
   "execution_count": null,
   "metadata": {},
   "outputs": [],
   "source": [
    "from sklearn.neighbors import KNeighborsClassifier\n",
    "knn = KNeighborsClassifier(n_neighbors=5, metric = 'minkowski', p = 2)\n",
    "knn.fit(X_train_mms,y_train)\n",
    "knn_pred = knn.predict(X_test_mms)"
   ]
  },
  {
   "cell_type": "code",
   "execution_count": null,
   "metadata": {},
   "outputs": [],
   "source": [
    "from sklearn.metrics import confusion_matrix, accuracy_score\n",
    "cm = confusion_matrix(y_test, knn_pred)\n",
    "print(cm)\n",
    "accuracy_score(y_test, knn_pred)"
   ]
  },
  {
   "cell_type": "code",
   "execution_count": null,
   "metadata": {},
   "outputs": [],
   "source": []
  }
 ],
 "metadata": {
  "kernelspec": {
   "display_name": "Python 3",
   "language": "python",
   "name": "python3"
  },
  "language_info": {
   "codemirror_mode": {
    "name": "ipython",
    "version": 3
   },
   "file_extension": ".py",
   "mimetype": "text/x-python",
   "name": "python",
   "nbconvert_exporter": "python",
   "pygments_lexer": "ipython3",
   "version": "3.8.3"
  }
 },
 "nbformat": 4,
 "nbformat_minor": 4
}
