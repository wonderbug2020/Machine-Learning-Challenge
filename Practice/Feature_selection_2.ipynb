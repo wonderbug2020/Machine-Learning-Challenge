{
 "cells": [
  {
   "cell_type": "code",
   "execution_count": 1,
   "metadata": {},
   "outputs": [],
   "source": [
    "#Import all the libraries\n",
    "import pandas as pd\n",
    "from sklearn.model_selection import train_test_split\n",
    "from sklearn.preprocessing import MinMaxScaler\n",
    "from sklearn.ensemble import RandomForestClassifier\n",
    "from sklearn.neighbors import KNeighborsClassifier\n",
    "from sklearn.naive_bayes import GaussianNB\n",
    "from sklearn.metrics import confusion_matrix, accuracy_score"
   ]
  },
  {
   "cell_type": "code",
   "execution_count": 2,
   "metadata": {},
   "outputs": [],
   "source": [
    "#Import the data\n",
    "df = pd.read_csv('exoplanet_data.csv')"
   ]
  },
  {
   "cell_type": "code",
   "execution_count": 3,
   "metadata": {},
   "outputs": [],
   "source": [
    "#This function takes in a data frame with the desired features, preprocesses the data, then call other functions \n",
    "def test_data(df):    \n",
    "    dataset = df\n",
    "    \n",
    "    #Create X and y\n",
    "    X = dataset.iloc[:,:-1].values\n",
    "    y = dataset.iloc[:,-1].values\n",
    "    \n",
    "    #Create Train-test split    \n",
    "    X_train, X_test, y_train, y_test = train_test_split(X, y, test_size=0.25, random_state=101)\n",
    "    \n",
    "    #Standardize the data    \n",
    "    mms = MinMaxScaler()\n",
    "    X_train_mms = mms.fit_transform(X_train)\n",
    "    X_test_mms = mms.transform(X_test)\n",
    "    \n",
    "    #Test using KNN model\n",
    "    knn_model(X_train_mms,X_test_mms,y_train,y_test)\n",
    "    \n",
    "    #Test using Random Forest model\n",
    "    rf_model(X_train_mms,X_test_mms,y_train,y_test)\n",
    "    \n",
    "    #Test using Naive Bayes\n",
    "    nb_model(X_train_mms,X_test_mms,y_train,y_test)"
   ]
  },
  {
   "cell_type": "code",
   "execution_count": 4,
   "metadata": {},
   "outputs": [],
   "source": [
    "#This function will take the training and test set data and analyse it using KNN model\n",
    "def knn_model(X_train,X_test,y_train,y_test):\n",
    "    knn = KNeighborsClassifier(n_neighbors=5, metric = 'minkowski', p = 2)\n",
    "    knn.fit(X_train,y_train)\n",
    "    knn_pred = knn.predict(X_test)\n",
    "    \n",
    "    cm = confusion_matrix(y_test, knn_pred)\n",
    "    score = accuracy_score(y_test, knn_pred)\n",
    "    print('Results for KNN model')\n",
    "    print(cm)\n",
    "    print(score)\n",
    "    print()"
   ]
  },
  {
   "cell_type": "code",
   "execution_count": 5,
   "metadata": {},
   "outputs": [],
   "source": [
    "#This function will take the training and test set data and analyse it using random forest model\n",
    "def rf_model(X_train,X_test,y_train,y_test):\n",
    "    rfc = RandomForestClassifier(n_estimators=50, criterion = 'entropy', random_state = 0)\n",
    "    rfc.fit(X_train,y_train)\n",
    "    rf_pred = rfc.predict(X_test)\n",
    "\n",
    "    \n",
    "    cm = confusion_matrix(y_test, rf_pred)\n",
    "    score = accuracy_score(y_test, rf_pred)\n",
    "    print('Results for Random forest model')\n",
    "    print(cm)\n",
    "    print(score)\n",
    "    print()"
   ]
  },
  {
   "cell_type": "code",
   "execution_count": 8,
   "metadata": {},
   "outputs": [],
   "source": [
    "#This function will take the training and test set data and analyse it using Naive Bayes model\n",
    "def nb_model(X_train,X_test,y_train,y_test):\n",
    "    nbg = GaussianNB()\n",
    "    nbg.fit(X_train,y_train)\n",
    "    nbg_pred = nbg.predict(X_test)\n",
    "    #rfc = RandomForestClassifier(n_estimators=50, criterion = 'entropy', random_state = 0)\n",
    "    #rfc.fit(X_train,y_train)\n",
    "    #rf_pred = rfc.predict(X_test)\n",
    "\n",
    "    \n",
    "    cm = confusion_matrix(y_test, nbg_pred)\n",
    "    score = accuracy_score(y_test, nbg_pred)\n",
    "    print('Results for Naive Bayes model')\n",
    "    print(cm)\n",
    "    print(score)\n",
    "    print()"
   ]
  },
  {
   "cell_type": "code",
   "execution_count": 7,
   "metadata": {},
   "outputs": [],
   "source": [
    "feature_select_ne = df[['koi_fpflag_nt', 'koi_fpflag_ss', 'koi_fpflag_co',\n",
    "                     'koi_fpflag_ec', 'koi_period', 'koi_impact',\n",
    "                     'koi_duration', 'koi_depth', 'koi_prad', 'koi_teq',\n",
    "                     'koi_model_snr', 'koi_steff', 'koi_slogg', 'koi_srad',\n",
    "                     'ra', 'dec', 'koi_kepmag', 'koi_disposition']]"
   ]
  },
  {
   "cell_type": "code",
   "execution_count": 9,
   "metadata": {},
   "outputs": [
    {
     "name": "stdout",
     "output_type": "stream",
     "text": [
      "Results for KNN model\n",
      "[[224 194  10]\n",
      " [133 293   9]\n",
      " [  1   0 884]]\n",
      "0.801487414187643\n",
      "\n",
      "Results for Random forest model\n",
      "[[331  87  10]\n",
      " [ 66 360   9]\n",
      " [  1   0 884]]\n",
      "0.9010297482837528\n",
      "\n",
      "Results for Naive Bayes model\n",
      "[[415   0  13]\n",
      " [426   0   9]\n",
      " [  1   0 884]]\n",
      "0.7431350114416476\n",
      "\n"
     ]
    }
   ],
   "source": [
    "test_data(feature_select_ne)"
   ]
  },
  {
   "cell_type": "code",
   "execution_count": 10,
   "metadata": {},
   "outputs": [],
   "source": [
    "feature_select_og = df[[ 'koi_fpflag_nt', 'koi_fpflag_ss', 'koi_fpflag_co',\n",
    "       'koi_fpflag_ec', 'koi_period', 'koi_time0bk', 'koi_impact',\n",
    "       'koi_duration', 'koi_depth', 'koi_prad', \n",
    "       'koi_teq', 'koi_insol', 'koi_model_snr', 'koi_tce_plnt_num', \n",
    "       'koi_steff', 'koi_slogg', 'koi_srad', 'ra', 'dec',\n",
    "       'koi_kepmag',\n",
    "       'koi_disposition',]]\n",
    "#I added in some original points i initially took out, it seems they slightly, though insignifficantly\n",
    "#lower the score."
   ]
  },
  {
   "cell_type": "code",
   "execution_count": 11,
   "metadata": {},
   "outputs": [
    {
     "name": "stdout",
     "output_type": "stream",
     "text": [
      "Results for KNN model\n",
      "[[227 191  10]\n",
      " [141 286   8]\n",
      " [  1   0 884]]\n",
      "0.7991990846681922\n",
      "\n",
      "Results for Random forest model\n",
      "[[328  90  10]\n",
      " [ 65 361   9]\n",
      " [  1   1 883]]\n",
      "0.8993135011441648\n",
      "\n",
      "Results for Naive Bayes model\n",
      "[[415   0  13]\n",
      " [426   1   8]\n",
      " [  1   2 882]]\n",
      "0.7425629290617849\n",
      "\n"
     ]
    }
   ],
   "source": [
    "test_data(feature_select_og)"
   ]
  },
  {
   "cell_type": "code",
   "execution_count": 12,
   "metadata": {},
   "outputs": [],
   "source": [
    "feature_select_r41 = df[['koi_fpflag_nt', 'koi_fpflag_ss', 'koi_fpflag_co',\n",
    "                     'koi_fpflag_ec', 'koi_period', 'koi_impact',\n",
    "                     'koi_duration', 'koi_depth', 'koi_prad', 'koi_teq',\n",
    "                     #'koi_model_snr', 'koi_steff', 'koi_slogg', 'koi_srad',\n",
    "                     'ra', 'dec', 'koi_kepmag', 'koi_disposition']]"
   ]
  },
  {
   "cell_type": "code",
   "execution_count": 13,
   "metadata": {},
   "outputs": [],
   "source": [
    "feature_select_r42 = df[['koi_fpflag_nt', 'koi_fpflag_ss', 'koi_fpflag_co',\n",
    "                     'koi_fpflag_ec', 'koi_period', 'koi_impact',\n",
    "                     #'koi_duration', 'koi_depth', 'koi_prad', 'koi_teq',\n",
    "                     'koi_model_snr', 'koi_steff', 'koi_slogg', 'koi_srad',\n",
    "                     'ra', 'dec', 'koi_kepmag', 'koi_disposition']]"
   ]
  },
  {
   "cell_type": "code",
   "execution_count": null,
   "metadata": {},
   "outputs": [],
   "source": [
    "feature_select_r = df[['koi_fpflag_nt', 'koi_fpflag_ss', 'koi_fpflag_co',\n",
    "                     'koi_fpflag_ec', 'koi_period', 'koi_impact',\n",
    "                     'koi_duration', 'koi_depth', 'koi_prad', 'koi_teq',\n",
    "                     'koi_model_snr', 'koi_steff', 'koi_slogg', 'koi_srad',\n",
    "                     #'ra', 'dec', 'koi_kepmag', \n",
    "                     'koi_disposition']]"
   ]
  },
  {
   "cell_type": "code",
   "execution_count": 14,
   "metadata": {},
   "outputs": [
    {
     "name": "stdout",
     "output_type": "stream",
     "text": [
      "Results for KNN model\n",
      "[[215 203  10]\n",
      " [149 277   9]\n",
      " [  1   0 884]]\n",
      "0.7871853546910755\n",
      "\n",
      "Results for Random forest model\n",
      "[[327  91  10]\n",
      " [ 98 328   9]\n",
      " [  1   0 884]]\n",
      "0.8804347826086957\n",
      "\n",
      "Results for Naive Bayes model\n",
      "[[416   0  12]\n",
      " [426   0   9]\n",
      " [  1   0 884]]\n",
      "0.7437070938215103\n",
      "\n"
     ]
    }
   ],
   "source": [
    "test_data(feature_select_r41)"
   ]
  },
  {
   "cell_type": "code",
   "execution_count": 15,
   "metadata": {},
   "outputs": [
    {
     "name": "stdout",
     "output_type": "stream",
     "text": [
      "Results for KNN model\n",
      "[[232 186  10]\n",
      " [136 290   9]\n",
      " [  1   0 884]]\n",
      "0.8043478260869565\n",
      "\n",
      "Results for Random forest model\n",
      "[[330  88  10]\n",
      " [ 68 358   9]\n",
      " [  1   0 884]]\n",
      "0.8993135011441648\n",
      "\n",
      "Results for Naive Bayes model\n",
      "[[416   0  12]\n",
      " [425   1   9]\n",
      " [  1   0 884]]\n",
      "0.744279176201373\n",
      "\n"
     ]
    }
   ],
   "source": [
    "test_data(feature_select_r42)"
   ]
  },
  {
   "cell_type": "code",
   "execution_count": null,
   "metadata": {},
   "outputs": [],
   "source": []
  }
 ],
 "metadata": {
  "kernelspec": {
   "display_name": "Python 3",
   "language": "python",
   "name": "python3"
  },
  "language_info": {
   "codemirror_mode": {
    "name": "ipython",
    "version": 3
   },
   "file_extension": ".py",
   "mimetype": "text/x-python",
   "name": "python",
   "nbconvert_exporter": "python",
   "pygments_lexer": "ipython3",
   "version": "3.8.3"
  }
 },
 "nbformat": 4,
 "nbformat_minor": 4
}
