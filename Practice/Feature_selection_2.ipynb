{
 "cells": [
  {
   "cell_type": "code",
   "execution_count": 1,
   "metadata": {},
   "outputs": [],
   "source": [
    "#Import all the libraries\n",
    "import pandas as pd\n",
    "from sklearn.model_selection import train_test_split\n",
    "from sklearn.preprocessing import MinMaxScaler\n",
    "from sklearn.ensemble import RandomForestClassifier\n",
    "from sklearn.neighbors import KNeighborsClassifier\n",
    "from sklearn.naive_bayes import GaussianNB\n",
    "from sklearn.metrics import confusion_matrix, accuracy_score"
   ]
  },
  {
   "cell_type": "code",
   "execution_count": 2,
   "metadata": {},
   "outputs": [],
   "source": [
    "#Import the data\n",
    "df = pd.read_csv('exoplanet_data.csv')"
   ]
  },
  {
   "cell_type": "code",
   "execution_count": 3,
   "metadata": {},
   "outputs": [],
   "source": [
    "#This function takes in a data frame with the desired features, preprocesses the data, then call other functions \n",
    "def test_data(df):    \n",
    "    dataset = df\n",
    "    \n",
    "    #Create X and y\n",
    "    X = dataset.iloc[:,:-1].values\n",
    "    y = dataset.iloc[:,-1].values\n",
    "    \n",
    "    #Create Train-test split    \n",
    "    X_train, X_test, y_train, y_test = train_test_split(X, y, test_size=0.25, random_state=101)\n",
    "    \n",
    "    #Standardize the data    \n",
    "    mms = MinMaxScaler()\n",
    "    X_train_mms = mms.fit_transform(X_train)\n",
    "    X_test_mms = mms.transform(X_test)\n",
    "    \n",
    "    #Test using KNN model\n",
    "    knn_model(X_train_mms,X_test_mms,y_train,y_test)\n",
    "    \n",
    "    #Test using Random Forest model\n",
    "    rf_model(X_train_mms,X_test_mms,y_train,y_test)\n",
    "    \n",
    "    #Test using Naive Bayes\n",
    "    nb_model(X_train_mms,X_test_mms,y_train,y_test)"
   ]
  },
  {
   "cell_type": "code",
   "execution_count": 4,
   "metadata": {},
   "outputs": [],
   "source": [
    "#This function will take the training and test set data and analyse it using KNN model\n",
    "def knn_model(X_train,X_test,y_train,y_test):\n",
    "    knn = KNeighborsClassifier(n_neighbors=5, metric = 'minkowski', p = 2)\n",
    "    knn.fit(X_train,y_train)\n",
    "    knn_pred = knn.predict(X_test)\n",
    "    \n",
    "    cm = confusion_matrix(y_test, knn_pred)\n",
    "    score = accuracy_score(y_test, knn_pred)\n",
    "    print('Results for KNN model')\n",
    "    print(cm)\n",
    "    print(score)\n",
    "    print()"
   ]
  },
  {
   "cell_type": "code",
   "execution_count": 5,
   "metadata": {},
   "outputs": [],
   "source": [
    "#This function will take the training and test set data and analyse it using random forest model\n",
    "def rf_model(X_train,X_test,y_train,y_test):\n",
    "    rfc = RandomForestClassifier(n_estimators=50, criterion = 'entropy', random_state = 0)\n",
    "    rfc.fit(X_train,y_train)\n",
    "    rf_pred = rfc.predict(X_test)\n",
    "\n",
    "    \n",
    "    cm = confusion_matrix(y_test, rf_pred)\n",
    "    score = accuracy_score(y_test, rf_pred)\n",
    "    print('Results for Random forest model')\n",
    "    print(cm)\n",
    "    print(score)\n",
    "    print()"
   ]
  },
  {
   "cell_type": "code",
   "execution_count": 8,
   "metadata": {},
   "outputs": [],
   "source": [
    "#This function will take the training and test set data and analyse it using Naive Bayes model\n",
    "def nb_model(X_train,X_test,y_train,y_test):\n",
    "    nbg = GaussianNB()\n",
    "    nbg.fit(X_train,y_train)\n",
    "    nbg_pred = nbg.predict(X_test)\n",
    "    #rfc = RandomForestClassifier(n_estimators=50, criterion = 'entropy', random_state = 0)\n",
    "    #rfc.fit(X_train,y_train)\n",
    "    #rf_pred = rfc.predict(X_test)\n",
    "\n",
    "    \n",
    "    cm = confusion_matrix(y_test, nbg_pred)\n",
    "    score = accuracy_score(y_test, nbg_pred)\n",
    "    print('Results for Naive Bayes model')\n",
    "    print(cm)\n",
    "    print(score)\n",
    "    print()"
   ]
  },
  {
   "cell_type": "code",
   "execution_count": 7,
   "metadata": {},
   "outputs": [],
   "source": [
    "feature_select_ne = df[['koi_fpflag_nt', 'koi_fpflag_ss', 'koi_fpflag_co',\n",
    "                     'koi_fpflag_ec', \n",
    "                     'koi_period',\n",
    "                     'koi_impact',\n",
    "                     'koi_duration',\n",
    "                     'koi_depth',\n",
    "                     'koi_prad',\n",
    "                     'koi_teq', 'koi_model_snr',\n",
    "                     'koi_steff',\n",
    "                     'koi_slogg',\n",
    "                     'koi_srad',\n",
    "                     'ra', 'dec', 'koi_kepmag',\n",
    "                     'koi_disposition']]"
   ]
  },
  {
   "cell_type": "code",
   "execution_count": 9,
   "metadata": {},
   "outputs": [
    {
     "name": "stdout",
     "output_type": "stream",
     "text": [
      "Results for KNN model\n",
      "[[224 194  10]\n",
      " [133 293   9]\n",
      " [  1   0 884]]\n",
      "0.801487414187643\n",
      "\n",
      "Results for Random forest model\n",
      "[[331  87  10]\n",
      " [ 66 360   9]\n",
      " [  1   0 884]]\n",
      "0.9010297482837528\n",
      "\n",
      "Results for Naive Bayes model\n",
      "[[415   0  13]\n",
      " [426   0   9]\n",
      " [  1   0 884]]\n",
      "0.7431350114416476\n",
      "\n"
     ]
    }
   ],
   "source": [
    "test_data(feature_select_ne)"
   ]
  },
  {
   "cell_type": "code",
   "execution_count": null,
   "metadata": {},
   "outputs": [],
   "source": []
  }
 ],
 "metadata": {
  "kernelspec": {
   "display_name": "Python 3",
   "language": "python",
   "name": "python3"
  },
  "language_info": {
   "codemirror_mode": {
    "name": "ipython",
    "version": 3
   },
   "file_extension": ".py",
   "mimetype": "text/x-python",
   "name": "python",
   "nbconvert_exporter": "python",
   "pygments_lexer": "ipython3",
   "version": "3.8.3"
  }
 },
 "nbformat": 4,
 "nbformat_minor": 4
}
