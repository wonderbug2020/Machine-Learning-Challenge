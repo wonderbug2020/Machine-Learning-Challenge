{
 "cells": [
  {
   "cell_type": "code",
   "execution_count": 5,
   "metadata": {},
   "outputs": [],
   "source": [
    "#Import all the libraries\n",
    "import pandas as pd\n",
    "from sklearn.model_selection import train_test_split\n",
    "from sklearn.preprocessing import MinMaxScaler\n",
    "from sklearn.ensemble import RandomForestClassifier\n",
    "from sklearn.neighbors import KNeighborsClassifier\n",
    "from sklearn.metrics import confusion_matrix, accuracy_score"
   ]
  },
  {
   "cell_type": "code",
   "execution_count": 2,
   "metadata": {},
   "outputs": [],
   "source": [
    "#Import the data\n",
    "df = pd.read_csv('exoplanet_data.csv')"
   ]
  },
  {
   "cell_type": "code",
   "execution_count": 8,
   "metadata": {},
   "outputs": [],
   "source": [
    "#This function takes in a data frame with the desired features, preprocesses the data, then call other functions \n",
    "def test_data(df):    \n",
    "    dataset = df\n",
    "    \n",
    "    #Create X and y\n",
    "    X = dataset.iloc[:,:-1].values\n",
    "    y = dataset.iloc[:,-1].values\n",
    "    \n",
    "    #Create Train-test split    \n",
    "    X_train, X_test, y_train, y_test = train_test_split(X, y, test_size=0.25, random_state=101)\n",
    "    \n",
    "    #Standardize the data    \n",
    "    mms = MinMaxScaler()\n",
    "    X_train_mms = mms.fit_transform(X_train)\n",
    "    X_test_mms = mms.transform(X_test)\n",
    "    \n",
    "    #Test using KNN model\n",
    "    knn_model(X_train_mms,X_test_mms,y_train,y_test)\n",
    "    \n",
    "    #Test using Random Forest model\n",
    "    rf_model(X_train_mms,X_test_mms,y_train,y_test)"
   ]
  },
  {
   "cell_type": "code",
   "execution_count": 4,
   "metadata": {},
   "outputs": [],
   "source": [
    "#This function will take the training and test set data and analyse it using KNN model\n",
    "def knn_model(X_train,X_test,y_train,y_test):\n",
    "    knn = KNeighborsClassifier(n_neighbors=5, metric = 'minkowski', p = 2)\n",
    "    knn.fit(X_train,y_train)\n",
    "    knn_pred = knn.predict(X_test)\n",
    "    \n",
    "    cm = confusion_matrix(y_test, knn_pred)\n",
    "    score = accuracy_score(y_test, knn_pred)\n",
    "    print('Results for KNN model')\n",
    "    print(cm)\n",
    "    print(score)\n",
    "    print()"
   ]
  },
  {
   "cell_type": "code",
   "execution_count": 7,
   "metadata": {},
   "outputs": [],
   "source": [
    "#This function will take the training and test set data and analyse it using KNN model\n",
    "def rf_model(X_train,X_test,y_train,y_test):\n",
    "    #knn = KNeighborsClassifier(n_neighbors=5, metric = 'minkowski', p = 2)\n",
    "    #knn.fit(X_train,y_train)\n",
    "    #knn_pred = knn.predict(X_test)\n",
    "    rfc = RandomForestClassifier(n_estimators=50, criterion = 'entropy', random_state = 0)\n",
    "    rfc.fit(X_train,y_train)\n",
    "    rf_pred = rfc.predict(X_test)\n",
    "\n",
    "    \n",
    "    cm = confusion_matrix(y_test, rf_pred)\n",
    "    score = accuracy_score(y_test, rf_pred)\n",
    "    print('Results for Random forest model')\n",
    "    print(cm)\n",
    "    print(score)\n",
    "    print()"
   ]
  },
  {
   "cell_type": "code",
   "execution_count": 13,
   "metadata": {},
   "outputs": [],
   "source": [
    "#This is a first pass at feature selection. I essentially only eliminated columns that I knew for sure should not be included\n",
    "feature_select = df[['koi_fpflag_nt', 'koi_fpflag_ss', 'koi_fpflag_co',\n",
    "                     'koi_fpflag_ec', \n",
    "                     'koi_period', 'koi_period_err1', 'koi_period_err2',\n",
    "                     'koi_impact', 'koi_impact_err1', 'koi_impact_err2', \n",
    "                     'koi_duration', 'koi_duration_err1', 'koi_duration_err2', \n",
    "                     'koi_depth', 'koi_depth_err1', 'koi_depth_err2',\n",
    "                     'koi_prad', 'koi_prad_err1', 'koi_prad_err2',\n",
    "                     'koi_teq', 'koi_model_snr',\n",
    "                     'koi_steff', 'koi_steff_err1', 'koi_steff_err2',\n",
    "                     'koi_slogg', 'koi_slogg_err1', 'koi_slogg_err2',\n",
    "                     'koi_srad', 'koi_srad_err1', 'koi_srad_err2',\n",
    "                     'ra', 'dec', 'koi_kepmag',\n",
    "                     'koi_disposition']]"
   ]
  },
  {
   "cell_type": "code",
   "execution_count": 10,
   "metadata": {},
   "outputs": [
    {
     "name": "stdout",
     "output_type": "stream",
     "text": [
      "Results for KNN model\n",
      "[[233 185  10]\n",
      " [111 316   8]\n",
      " [  2   0 883]]\n",
      "0.8192219679633868\n",
      "\n",
      "Results for Random forest model\n",
      "[[320  89  19]\n",
      " [ 60 368   7]\n",
      " [  1   2 882]]\n",
      "0.8981693363844394\n",
      "\n"
     ]
    }
   ],
   "source": [
    "test_data(feature_select)"
   ]
  },
  {
   "cell_type": "code",
   "execution_count": 11,
   "metadata": {},
   "outputs": [],
   "source": [
    "#The test above represents the baseline features I originally intended to use. \n",
    "#Results show KNN had an accuracy of ~82% and Random forest had ~90%\n",
    "#The function runs bother of these modals at the same time and does so in a matter of seconds.\n",
    "#Next I will look at various subsets of this feature selection to see if I can improve the score"
   ]
  },
  {
   "cell_type": "code",
   "execution_count": 14,
   "metadata": {},
   "outputs": [],
   "source": [
    "#This feature selection will only include the 4 fpflag features\n",
    "feature_select_flag = df[['koi_fpflag_nt', 'koi_fpflag_ss', 'koi_fpflag_co',\n",
    "                     'koi_fpflag_ec',                      \n",
    "                     'koi_disposition']]"
   ]
  },
  {
   "cell_type": "code",
   "execution_count": 15,
   "metadata": {},
   "outputs": [
    {
     "name": "stdout",
     "output_type": "stream",
     "text": [
      "Results for KNN model\n",
      "[[418   0  10]\n",
      " [426   0   9]\n",
      " [  1   0 884]]\n",
      "0.7448512585812357\n",
      "\n",
      "Results for Random forest model\n",
      "[[  0 418  10]\n",
      " [  0 426   9]\n",
      " [  0   1 884]]\n",
      "0.7494279176201373\n",
      "\n"
     ]
    }
   ],
   "source": [
    "test_data(feature_select_flag)"
   ]
  },
  {
   "cell_type": "code",
   "execution_count": 16,
   "metadata": {},
   "outputs": [],
   "source": [
    "#In previous tests (when I erroniously removed the candidate rows), these 4 features dominated the prediction\n",
    "#Now when I run the test there is a significant drop in model performance, which is kindof a good thing\n",
    "#This shows these 4 features are not the only features to help in the prediction\n",
    "#Next I want to simply remove the error features from the original set"
   ]
  },
  {
   "cell_type": "code",
   "execution_count": 17,
   "metadata": {},
   "outputs": [],
   "source": [
    "#This feature set will not have the error features.\n",
    "feature_select_ne = df[['koi_fpflag_nt', 'koi_fpflag_ss', 'koi_fpflag_co',\n",
    "                     'koi_fpflag_ec', \n",
    "                     'koi_period',\n",
    "                     'koi_impact',\n",
    "                     'koi_duration',\n",
    "                     'koi_depth',\n",
    "                     'koi_prad',\n",
    "                     'koi_teq', 'koi_model_snr',\n",
    "                     'koi_steff',\n",
    "                     'koi_slogg',\n",
    "                     'koi_srad',\n",
    "                     'ra', 'dec', 'koi_kepmag',\n",
    "                     'koi_disposition']]"
   ]
  },
  {
   "cell_type": "code",
   "execution_count": 18,
   "metadata": {},
   "outputs": [
    {
     "name": "stdout",
     "output_type": "stream",
     "text": [
      "Results for KNN model\n",
      "[[224 194  10]\n",
      " [133 293   9]\n",
      " [  1   0 884]]\n",
      "0.801487414187643\n",
      "\n",
      "Results for Random forest model\n",
      "[[331  87  10]\n",
      " [ 66 360   9]\n",
      " [  1   0 884]]\n",
      "0.9010297482837528\n",
      "\n"
     ]
    }
   ],
   "source": [
    "test_data(feature_select_ne)"
   ]
  },
  {
   "cell_type": "code",
   "execution_count": 19,
   "metadata": {},
   "outputs": [],
   "source": [
    "#results for this feature selection are similar to the initial test set \n",
    "#KNN is slightly worse and Random forest is marginally better\n",
    "#I don't notice any significant differences between distribustion of the answers\n",
    "#This is important as it removed about half of the initial feature. \n",
    "#When I move to the grid search, this will help cut down on computer time with no real change in performance"
   ]
  },
  {
   "cell_type": "code",
   "execution_count": null,
   "metadata": {},
   "outputs": [],
   "source": []
  }
 ],
 "metadata": {
  "kernelspec": {
   "display_name": "Python 3",
   "language": "python",
   "name": "python3"
  },
  "language_info": {
   "codemirror_mode": {
    "name": "ipython",
    "version": 3
   },
   "file_extension": ".py",
   "mimetype": "text/x-python",
   "name": "python",
   "nbconvert_exporter": "python",
   "pygments_lexer": "ipython3",
   "version": "3.8.3"
  }
 },
 "nbformat": 4,
 "nbformat_minor": 4
}
