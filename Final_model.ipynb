{
 "cells": [
  {
   "cell_type": "code",
   "execution_count": 1,
   "metadata": {},
   "outputs": [],
   "source": [
    "#Import all the libraries\n",
    "import pandas as pd\n",
    "from sklearn.model_selection import train_test_split\n",
    "from sklearn.preprocessing import MinMaxScaler\n",
    "from sklearn.ensemble import RandomForestClassifier\n",
    "from sklearn.model_selection import GridSearchCV\n",
    "from sklearn.metrics import confusion_matrix, accuracy_score"
   ]
  },
  {
   "cell_type": "code",
   "execution_count": 4,
   "metadata": {},
   "outputs": [],
   "source": [
    "#Import the data\n",
    "df = pd.read_csv('resources/exoplanet_data.csv')"
   ]
  },
  {
   "cell_type": "code",
   "execution_count": 5,
   "metadata": {},
   "outputs": [],
   "source": [
    "#This is the final list of features to be used\n",
    "dataset = df[['koi_fpflag_nt', 'koi_fpflag_ss', 'koi_fpflag_co',\n",
    "                     'koi_fpflag_ec', 'koi_period', 'koi_impact',\n",
    "                     'koi_duration', 'koi_depth', 'koi_prad',\n",
    "                     'koi_teq', 'koi_model_snr', 'koi_steff',\n",
    "                     'koi_slogg', 'koi_srad',\n",
    "                     'ra', 'dec', 'koi_kepmag',\n",
    "                     'koi_disposition']]"
   ]
  },
  {
   "cell_type": "code",
   "execution_count": 6,
   "metadata": {},
   "outputs": [],
   "source": [
    "#Split into feature set and predictor set\n",
    "X = dataset.iloc[:,:-1].values\n",
    "y = dataset.iloc[:,-1].values"
   ]
  },
  {
   "cell_type": "code",
   "execution_count": 7,
   "metadata": {},
   "outputs": [],
   "source": [
    "#Scale the features using MinMax\n",
    "mms = MinMaxScaler()\n",
    "X_mms = mms.fit_transform(X)"
   ]
  },
  {
   "cell_type": "code",
   "execution_count": 8,
   "metadata": {},
   "outputs": [],
   "source": [
    "#Create the train test split\n",
    "X_train, X_test, y_train, y_test = train_test_split(X_mms, y, test_size=0.25, random_state=101)"
   ]
  },
  {
   "cell_type": "code",
   "execution_count": 9,
   "metadata": {},
   "outputs": [],
   "source": [
    "#First I set up my desired grid parameters\n",
    "grid_params = {\n",
    "    'n_estimators':[5,10,20,50,100,150,200],\n",
    "    'max_features':[2,4,7,12,15,17],\n",
    "    'max_depth':[2,4,6,8,10,15]\n",
    "}\n",
    "\n",
    "#Next I create the grid search with my parameters\n",
    "rfgs = GridSearchCV(\n",
    "    RandomForestClassifier(),\n",
    "    grid_params,\n",
    "    verbose = 1,\n",
    "    cv = 5,\n",
    "    n_jobs = -1\n",
    ")"
   ]
  },
  {
   "cell_type": "code",
   "execution_count": null,
   "metadata": {},
   "outputs": [],
   "source": [
    "#WARNING!! time and computer intensive, use at your own risk!!!\n",
    "#Hard coded results are given below\n",
    "#Using the grid I created above I can start checking for the best parameters using the training data\n",
    "rfgs_results = rfgs.fit(X_train,y_train)"
   ]
  },
  {
   "cell_type": "code",
   "execution_count": null,
   "metadata": {},
   "outputs": [],
   "source": [
    "#Lists the best parameters that were found and inputs them into a variable\n",
    "#NOTE, if you choose to just use the hard coded answers, you can skip the cell above as well as this one\n",
    "best_params = rfgs_results.best_params_"
   ]
  },
  {
   "cell_type": "code",
   "execution_count": 10,
   "metadata": {},
   "outputs": [],
   "source": [
    "#Using the best parameters from the grid search I have my most optimized random forest model\n",
    "best_rf = RandomForestClassifier(n_estimators=200,max_depth=10,max_features=7)\n",
    "\n",
    "#Note, I used google colab for the grid search on random forest (as well as other models) to save on computer time.\n",
    "#For RF specifically it took almost 17 minutes. I hard coded the results into this cell incase you want to skip the grid search\n",
    "#If you didn't, comment out the top line and uncomment out the one below. \n",
    "#best_rf = RandomForestClassifier(n_estimators=best_params[\"n_estimators\"],max_depth=best_params['max_depth'],max_features=best_params['max_features'])"
   ]
  },
  {
   "cell_type": "code",
   "execution_count": 11,
   "metadata": {},
   "outputs": [
    {
     "data": {
      "text/plain": [
       "RandomForestClassifier(max_depth=10, max_features=7, n_estimators=200)"
      ]
     },
     "execution_count": 11,
     "metadata": {},
     "output_type": "execute_result"
    }
   ],
   "source": [
    "#Using the best parameters we can now create the optimized model\n",
    "best_rf.fit(X_train,y_train)"
   ]
  },
  {
   "cell_type": "code",
   "execution_count": 12,
   "metadata": {},
   "outputs": [],
   "source": [
    "#Now that the model has been created, we can predict values to compare to the actual text values\n",
    "rf_pred = best_rf.predict(X_test)"
   ]
  },
  {
   "cell_type": "code",
   "execution_count": null,
   "metadata": {},
   "outputs": [],
   "source": [
    "#Finally we see how well "
   ]
  }
 ],
 "metadata": {
  "kernelspec": {
   "display_name": "Python 3",
   "language": "python",
   "name": "python3"
  },
  "language_info": {
   "codemirror_mode": {
    "name": "ipython",
    "version": 3
   },
   "file_extension": ".py",
   "mimetype": "text/x-python",
   "name": "python",
   "nbconvert_exporter": "python",
   "pygments_lexer": "ipython3",
   "version": "3.8.3"
  }
 },
 "nbformat": 4,
 "nbformat_minor": 4
}
